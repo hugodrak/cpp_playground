{
 "cells": [
  {
   "cell_type": "code",
   "execution_count": 1,
   "metadata": {},
   "outputs": [],
   "source": [
    "import numpy as np"
   ]
  },
  {
   "cell_type": "code",
   "execution_count": 13,
   "metadata": {},
   "outputs": [
    {
     "name": "stdout",
     "output_type": "stream",
     "text": [
      "0 50.0 0 58.0 11.00085\n",
      "90 0.0 -50 57.99955 11.0\n",
      "180 -50.0 0 58.0 10.99915\n",
      "270 -0.0 50 58.00045 11.0\n",
      "360 50.0 0 58.0 11.00085\n"
     ]
    }
   ],
   "source": [
    "x = 50\n",
    "y = 0\n",
    "lat = 58.\n",
    "long = 11.\n",
    "\n",
    "for heading in [0, 90, 180, 270, 360]:\n",
    "\th_r = np.radians(heading)\n",
    "\n",
    "\tcx = x * np.cos(h_r) + y * np.sin(h_r)\n",
    "\tcy =  - x*np.sin(h_r) + y*np.cos(h_r)\n",
    "\n",
    "\n",
    "\tky = 111319\n",
    "\tkx = 111319 * np.cos(np.radians(lat))\n",
    "\n",
    "\tnew_lat = lat + cy / ky\n",
    "\tnew_long = long + cx / kx\n",
    "\tprint(heading, round(cx,1), round(cy), round(new_lat,5), round(new_long,5))"
   ]
  },
  {
   "cell_type": "code",
   "execution_count": null,
   "metadata": {},
   "outputs": [],
   "source": []
  }
 ],
 "metadata": {
  "kernelspec": {
   "display_name": "Python 3",
   "language": "python",
   "name": "python3"
  },
  "language_info": {
   "codemirror_mode": {
    "name": "ipython",
    "version": 3
   },
   "file_extension": ".py",
   "mimetype": "text/x-python",
   "name": "python",
   "nbconvert_exporter": "python",
   "pygments_lexer": "ipython3",
   "version": "3.11.6"
  }
 },
 "nbformat": 4,
 "nbformat_minor": 2
}
