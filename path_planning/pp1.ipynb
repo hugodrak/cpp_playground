{
 "cells": [
  {
   "cell_type": "code",
   "execution_count": 2,
   "metadata": {},
   "outputs": [],
   "source": [
    "import heapq\n",
    "\n",
    "import matplotlib.pyplot as plt\n",
    "import numpy as np\n",
    "from scipy.interpolate import CubicSpline"
   ]
  },
  {
   "cell_type": "code",
   "execution_count": 3,
   "metadata": {},
   "outputs": [],
   "source": [
    "\n",
    "class Node:\n",
    "    def __init__(self, position, parent=None):\n",
    "        self.position = position\n",
    "        self.parent = parent\n",
    "        self.g = 0  # Cost from start to node\n",
    "        self.h = 0  # Heuristic, estimated cost from node to end\n",
    "        self.f = 0  # Total cost\n",
    "\n",
    "    def __lt__(self, other):\n",
    "        return self.f < other.f\n",
    "\n",
    "def a_star(grid, start, end):\n",
    "    # Create start and end node\n",
    "    start_node = Node(start)\n",
    "    end_node = Node(end)\n",
    "\n",
    "    # Initialize open and closed list\n",
    "    open_list = []\n",
    "    closed_list = set()\n",
    "\n",
    "    # Add the start node\n",
    "    heapq.heappush(open_list, start_node)\n",
    "\n",
    "    # Loop until the end\n",
    "    while open_list:\n",
    "        current_node = heapq.heappop(open_list)\n",
    "        closed_list.add(current_node.position)\n",
    "\n",
    "        # Check if we reached the end\n",
    "        if current_node.position == end_node.position:\n",
    "            path = []\n",
    "            while current_node is not None:\n",
    "                path.append(current_node.position)\n",
    "                current_node = current_node.parent\n",
    "            return path[::-1]  # Return reversed path\n",
    "\n",
    "        # Generate children\n",
    "        children = []\n",
    "        for new_position in [(0, -1), (0, 1), (-1, 0), (1, 0)]:  # Adjacent squares\n",
    "            node_position = (current_node.position[0] + new_position[0], current_node.position[1] + new_position[1])\n",
    "            \n",
    "            # Make sure within range and not in water\n",
    "            if node_position[0] > (len(grid) - 1) or node_position[0] < 0 or node_position[1] > (len(grid[len(grid)-1]) - 1) or node_position[1] < 0:\n",
    "                continue\n",
    "            if grid[node_position[0]][node_position[1]] != 0:\n",
    "                continue\n",
    "            \n",
    "            # Create new node and append\n",
    "            new_node = Node(node_position, current_node)\n",
    "            children.append(new_node)\n",
    "\n",
    "        # Loop through children\n",
    "        for child in children:\n",
    "            if child.position in closed_list:\n",
    "                continue\n",
    "\n",
    "            # Create the f, g, and h values\n",
    "            child.g = current_node.g + 1\n",
    "            child.h = ((child.position[0] - end_node.position[0]) ** 2) + ((child.position[1] - end_node.position[1]) ** 2)\n",
    "            child.f = child.g + child.h\n",
    "\n",
    "            # Child is already in the open list\n",
    "            for open_node in open_list:\n",
    "                if child == open_node and child.g > open_node.g:\n",
    "                    continue\n",
    "\n",
    "            # Add the child to the open list\n",
    "            heapq.heappush(open_list, child)\n",
    "\n",
    "    return None  # Path not found"
   ]
  },
  {
   "cell_type": "code",
   "execution_count": 4,
   "metadata": {},
   "outputs": [
    {
     "name": "stdout",
     "output_type": "stream",
     "text": [
      "[(0, 0), (1, 0), (2, 0), (2, 1), (2, 2), (3, 2), (4, 2), (4, 3), (4, 4)]\n"
     ]
    }
   ],
   "source": [
    "\n",
    "# Example grid (0 = water, 1 = obstacle)\n",
    "grid = [\n",
    "    [0, 0, 0, 0, 1],\n",
    "    [0, 1, 1, 0, 1],\n",
    "    [0, 0, 0, 1, 0],\n",
    "    [1, 0, 0, 1, 0],\n",
    "    [1, 1, 0, 0, 0]\n",
    "]\n",
    "\n",
    "start = (0, 0)  # Starting position\n",
    "end = (4, 4)   # Ending position\n",
    "\n",
    "\n",
    "# Assuming the rest of the A* code is defined here...\n",
    "\n",
    "path = a_star(grid, start, end)\n",
    "print(path)"
   ]
  },
  {
   "cell_type": "code",
   "execution_count": 6,
   "metadata": {},
   "outputs": [
    {
     "data": {
      "image/png": "[encoded data removed]",
      "text/plain": [
       "<Figure size 640x480 with 1 Axes>"
      ]
     },
     "metadata": {},
     "output_type": "display_data"
    }
   ],
   "source": [
    "\n",
    "# Convert path to a grid for visualization\n",
    "path_grid = np.zeros_like(grid)\n",
    "for point in path:\n",
    "    path_grid[point[0]][point[1]] = 2  # 2 will represent the path\n",
    "\n",
    "# Update the path_grid with obstacles and start/end points\n",
    "for i in range(len(grid)):\n",
    "    for j in range(len(grid[i])):\n",
    "        if grid[i][j] == 1:\n",
    "            path_grid[i][j] = 1  # 1 represents obstacles\n",
    "path_grid[start[0]][start[1]] = 3  # 3 represents the start point\n",
    "path_grid[end[0]][end[1]] = 4      # 4 represents the end point\n",
    "\n",
    "# Set up the color map (water: blue, obstacle: black, path: yellow, start: green, end: red)\n",
    "cmap = plt.cm.jet\n",
    "cmap.set_under('blue')  # Water\n",
    "cmap.set_over('red')    # End\n",
    "norm = plt.Normalize(0.5, 4.5)\n",
    "\n",
    "# Create the plot\n",
    "fig, ax = plt.subplots()\n",
    "ax.imshow(path_grid, cmap=cmap, norm=norm)\n",
    "\n",
    "# Add gridlines and set ticks\n",
    "ax.grid(which='major', axis='both', linestyle='-', color='k', linewidth=2)\n",
    "ax.set_xticks(np.arange(-.5, len(grid[0]), 1))\n",
    "ax.set_yticks(np.arange(-.5, len(grid), 1))\n",
    "\n",
    "# Remove tick labels\n",
    "ax.set_xticklabels([])\n",
    "ax.set_yticklabels([])\n",
    "\n",
    "# Show the plot\n",
    "plt.show()"
   ]
  },
  {
   "cell_type": "code",
   "execution_count": 11,
   "metadata": {},
   "outputs": [
    {
     "data": {
      "image/png": "[encoded data removed]",
      "text/plain": [
       "<Figure size 640x480 with 1 Axes>"
      ]
     },
     "metadata": {},
     "output_type": "display_data"
    }
   ],
   "source": [
    "\n",
    "\n",
    "# Assuming the rest of the A* code and path calculation is above...\n",
    "\n",
    "# Convert the A* path into a series of points\n",
    "x = [point[1] for point in path]  # Note: swapping x and y because of grid representation\n",
    "y = [point[0] for point in path]\n",
    "\n",
    "# Generate parameter t based on path indices\n",
    "t = np.arange(len(x))\n",
    "\n",
    "# Create a cubic spline interpolation of the path\n",
    "cs_x = CubicSpline(t, x, bc_type='natural')\n",
    "cs_y = CubicSpline(t, y, bc_type='natural')\n",
    "\n",
    "# Generate fine-grained parameter values for a smooth curve\n",
    "t_fine = np.linspace(0, t[-1], 300)\n",
    "\n",
    "# Evaluate the spline at the fine-grained parameter values\n",
    "smooth_x = cs_x(t_fine)\n",
    "smooth_y = cs_y(t_fine)\n",
    "\n",
    "# Now, let's add this to the visualization code from before\n",
    "# Assuming path_grid and other plotting code is already defined...\n",
    "\n",
    "fig, ax = plt.subplots()\n",
    "ax.imshow(path_grid, cmap=cmap, norm=norm)\n",
    "\n",
    "# Plot the smooth path\n",
    "ax.plot(smooth_x, smooth_y, 'm-', linewidth=3)  # 'm-' sets the color to magenta\n",
    "\n",
    "# Add gridlines and set ticks (same as before)\n",
    "ax.grid(which='major', axis='both', linestyle='-', color='k', linewidth=2)\n",
    "ax.set_xticks(np.arange(-.5, len(grid[0]), 1))\n",
    "ax.set_yticks(np.arange(-.5, len(grid), 1))\n",
    "\n",
    "# Remove tick labels\n",
    "ax.set_xticklabels([])\n",
    "ax.set_yticklabels([])\n",
    "\n",
    "plt.show()\n"
   ]
  },
  {
   "cell_type": "code",
   "execution_count": 12,
   "metadata": {},
   "outputs": [
    {
     "data": {
      "image/png": "[encoded data removed]",
      "text/plain": [
       "<Figure size 640x480 with 1 Axes>"
      ]
     },
     "metadata": {},
     "output_type": "display_data"
    }
   ],
   "source": [
    "\n",
    "# Reduce the number of points by selecting key points\n",
    "key_indices = [0]  # Always include the first point\n",
    "distance_threshold = 3  # Define how far apart points should be to be considered key points\n",
    "\n",
    "for i in range(1, len(path) - 1):\n",
    "    # Check if this point is far enough from the last key point\n",
    "    if abs(path[i][0] - path[key_indices[-1]][0]) >= distance_threshold or \\\n",
    "       abs(path[i][1] - path[key_indices[-1]][1]) >= distance_threshold:\n",
    "        key_indices.append(i)\n",
    "\n",
    "key_indices.append(len(path) - 1)  # Always include the last point\n",
    "\n",
    "# Now create a new path with these key points\n",
    "key_path = [path[i] for i in key_indices]\n",
    "\n",
    "# Extract x and y coordinates as before, but using the key path\n",
    "x = [point[1] for point in key_path]\n",
    "y = [point[0] for point in key_path]\n",
    "t = np.arange(len(x))\n",
    "\n",
    "# Recalculate the cubic splines with these key points\n",
    "cs_x = CubicSpline(t, x, bc_type='natural')\n",
    "cs_y = CubicSpline(t, y, bc_type='natural')\n",
    "t_fine = np.linspace(0, t[-1], 300)\n",
    "smooth_x = cs_x(t_fine)\n",
    "smooth_y = cs_y(t_fine)\n",
    "\n",
    "# Now, let's add this to the visualization code from before\n",
    "# Assuming path_grid and other plotting code is already defined...\n",
    "\n",
    "fig, ax = plt.subplots()\n",
    "ax.imshow(path_grid, cmap=cmap, norm=norm)\n",
    "\n",
    "# Plot the smooth path\n",
    "ax.plot(smooth_x, smooth_y, 'm-', linewidth=3)  # 'm-' sets the color to magenta\n",
    "\n",
    "# Add gridlines and set ticks (same as before)\n",
    "ax.grid(which='major', axis='both', linestyle='-', color='k', linewidth=2)\n",
    "ax.set_xticks(np.arange(-.5, len(grid[0]), 1))\n",
    "ax.set_yticks(np.arange(-.5, len(grid), 1))\n",
    "\n",
    "# Remove tick labels\n",
    "ax.set_xticklabels([])\n",
    "ax.set_yticklabels([])\n",
    "\n",
    "plt.show()\n"
   ]
  },
  {
   "cell_type": "code",
   "execution_count": 1,
   "metadata": {},
   "outputs": [
    {
     "name": "stdout",
     "output_type": "stream",
     "text": [
      "Distance between longitudes: 7365.54 meters\n"
     ]
    }
   ],
   "source": [
    "import math\n",
    "\n",
    "def longitude_distance(lat, lon1, lon2):\n",
    "    # Radius of the Earth in meters\n",
    "    R = 6371000\n",
    "    \n",
    "    # Convert latitude and longitude from degrees to radians\n",
    "    lat_rad = math.radians(lat)\n",
    "    lon1_rad = math.radians(lon1)\n",
    "    lon2_rad = math.radians(lon2)\n",
    "    \n",
    "    # Difference in longitude\n",
    "    delta_lon = lon2_rad - lon1_rad\n",
    "    \n",
    "    # Distance calculation\n",
    "    distance = R * abs(delta_lon) * math.cos(lat_rad)\n",
    "    return distance\n",
    "\n",
    "# Example usage\n",
    "latitude = 58  # Example latitude (New York City)\n",
    "longitude1 = 11.25\n",
    "longitude2 = 11.25+0.125\n",
    "\n",
    "# so 7365 meters gives 0,00001697216565 per meter\n",
    "dist = longitude_distance(latitude, longitude1, longitude2)\n",
    "print(f\"Distance between longitudes: {dist:.2f} meters\")\n"
   ]
  },
  {
   "cell_type": "code",
   "execution_count": 26,
   "metadata": {},
   "outputs": [
    {
     "name": "stdout",
     "output_type": "stream",
     "text": [
      "Grid size: (589, 589)\n"
     ]
    },
    {
     "data": {
      "image/jpeg": "[encoded data removed]",
      "text/plain": [
       "<IPython.core.display.Image object>"
      ]
     },
     "metadata": {},
     "output_type": "display_data"
    },
    {
     "ename": "",
     "evalue": "",
     "output_type": "error",
     "traceback": [
      "\u001b[1;31mThe Kernel crashed while executing code in the current cell or a previous cell. \n",
      "\u001b[1;31mPlease review the code in the cell(s) to identify a possible cause of the failure. \n",
      "\u001b[1;31mClick <a href='https://aka.ms/vscodeJupyterKernelCrash'>here</a> for more info. \n",
      "\u001b[1;31mView Jupyter <a href='command:jupyter.viewOutput'>log</a> for further details."
     ]
    }
   ],
   "source": [
    "import numpy as np\n",
    "import cv2\n",
    "from IPython.display import display, Image\n",
    "\n",
    "# Constants for the geographic to grid conversion\n",
    "DEGREES_PER_CELL = 0.00008486082824  # Approximate degrees per 5 meters\n",
    "#DEGREES_PER_CELL = 0.00008486082824*10  # Approximate degrees per 5 meters\n",
    "EARTH_RADIUS = 6371000  # Radius of Earth in meters\n",
    "\n",
    "# Define your geographic bounds\n",
    "lon_min, lon_max = 11, 11.05  # Example longitude range\n",
    "lat_min, lat_max = 50, 50.05     # Example latitude range\n",
    "\n",
    "def degrees_to_cells(degrees):\n",
    "    return int(degrees / DEGREES_PER_CELL)\n",
    "\n",
    "# Calculate grid dimensions\n",
    "lon_cells = degrees_to_cells(lon_max - lon_min)\n",
    "lat_cells = degrees_to_cells(lat_max - lat_min)\n",
    "\n",
    "# Create the grid matrix initialized to 0\n",
    "grid = np.zeros((lat_cells, lon_cells), dtype=np.uint8)\n",
    "\n",
    "# Example list of polygons (each polygon is a list of (lon, lat) tuples)\n",
    "polygons = [\n",
    "    [(11.01, 50.01), (11.03, 50.03), (11.06, 50.01), (11.06, 50.01)],  # Polygon 1\n",
    "    #[(-123.11, 49.26), (-123.12, 49.26), (-123.12, 49.25), (-123.11, 49.25)]   # Polygon 2\n",
    "]\n",
    "\n",
    "def mark_polygon_on_grid(polygons):\n",
    "    for polygon in polygons:\n",
    "        # Convert polygon coordinates to grid indices\n",
    "        pts = np.array([\n",
    "            (degrees_to_cells(lon - lon_min), degrees_to_cells(lat_max - lat)) \n",
    "            for lon, lat in polygon\n",
    "        ], np.int32)\n",
    "        #print(pts)\n",
    "        # Reshape points for fillPoly\n",
    "        pts = pts.reshape((-1, 1, 2))\n",
    "        \n",
    "        # Fill the polygon area with 1\n",
    "        cv2.fillPoly(grid, [pts], 1)\n",
    "\n",
    "# Mark polygons on the grid\n",
    "mark_polygon_on_grid(polygons)\n",
    "\n",
    "\n",
    "print(\"Grid size:\", grid.shape)\n",
    "# Encode image as a JPEG \n",
    "_, buffer = cv2.imencode('.jpg', grid*255)\n",
    "\n",
    "# Convert to byte array\n",
    "image_bytes = buffer.tobytes()\n",
    "\n",
    "# Display the image\n",
    "display(Image(data=image_bytes))\n",
    "# # Optionally, display the grid as an image\n",
    "# cv2.imshow('Grid', grid * 255)  # Scale by 255 to see the polygons clearly in the image display\n",
    "# cv2.waitKey(0)\n",
    "# cv2.destroyAllWindows()\n"
   ]
  },
  {
   "cell_type": "code",
   "execution_count": null,
   "metadata": {},
   "outputs": [],
   "source": []
  }
 ],
 "metadata": {
  "kernelspec": {
   "display_name": "Python 3",
   "language": "python",
   "name": "python3"
  },
  "language_info": {
   "codemirror_mode": {
    "name": "ipython",
    "version": 3
   },
   "file_extension": ".py",
   "mimetype": "text/x-python",
   "name": "python",
   "nbconvert_exporter": "python",
   "pygments_lexer": "ipython3",
   "version": "3.11.6"
  }
 },
 "nbformat": 4,
 "nbformat_minor": 2
}
