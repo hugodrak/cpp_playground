{
 "cells": [
  {
   "cell_type": "code",
   "execution_count": 3,
   "metadata": {},
   "outputs": [],
   "source": [
    "# 0. imports\n",
    "import numpy as np\n",
    "import json"
   ]
  },
  {
   "cell_type": "code",
   "execution_count": 1,
   "metadata": {},
   "outputs": [],
   "source": [
    "# 1. setup route\n",
    "# TODO: do interactive map\n",
    "start_point = 57.670537, 11.850241 # ssrs\n",
    "end_point = 57.716350, 11.952675 # lindholmen\n"
   ]
  },
  {
   "cell_type": "code",
   "execution_count": 4,
   "metadata": {},
   "outputs": [
    {
     "name": "stdout",
     "output_type": "stream",
     "text": [
      "['SE3DI7LA.000', 'SE5HI7LB.000', 'SE2BHS0W.000', 'SE4EI7LB.000', 'SE6DI7LA.000']\n"
     ]
    }
   ],
   "source": [
    "# 2. get appropriate maps\n",
    "# 2.1 generate straight line between start and end point\n",
    "\n",
    "# 2.2 get all maps that intersect with this line\n",
    "summary = json.load(open('summary.json'))\n",
    "map_keys_start = []\n",
    "\n",
    "# maybe we only have to get the map for the start point and then exapand with A* search\n",
    "# but counter example is gbg stockholm not göta kanal\n",
    "# also add scale!\n",
    "# and convert water ways to nodes!\n",
    "\n",
    "\n",
    "for map_name, map in summary.items():\n",
    "\tlat_min, lat_max = map['lat_bounds']\n",
    "\tlon_min, lon_max = map['lon_bounds']\n",
    "\tif start_point[0] < lat_max and start_point[0] > lat_min and start_point[1] < lon_max and start_point[1] > lon_min:\n",
    "\t\tmap_keys_start.append(map_name)\n",
    "\n",
    "print(map_keys_start)"
   ]
  },
  {
   "cell_type": "code",
   "execution_count": null,
   "metadata": {},
   "outputs": [],
   "source": [
    "# test of drawing water for one map\n",
    "# SE3DI7LA.000\n",
    "\n",
    "map = json.load(open('maps/SE3DI7LA.000.json'))\n",
    "\n",
    "import matplotlib.pyplot as plt\n",
    "import matplotlib.patches as patches\n",
    "\n",
    "# I dont think that there is a group of sea gemoetry but assume all is sea and then remove the land\n",
    "\n",
    "\n"
   ]
  }
 ],
 "metadata": {
  "kernelspec": {
   "display_name": "Python 3",
   "language": "python",
   "name": "python3"
  },
  "language_info": {
   "codemirror_mode": {
    "name": "ipython",
    "version": 3
   },
   "file_extension": ".py",
   "mimetype": "text/x-python",
   "name": "python",
   "nbconvert_exporter": "python",
   "pygments_lexer": "ipython3",
   "version": "3.11.6"
  }
 },
 "nbformat": 4,
 "nbformat_minor": 2
}
